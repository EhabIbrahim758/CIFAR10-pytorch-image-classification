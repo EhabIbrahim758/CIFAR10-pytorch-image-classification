{
 "cells": [
  {
   "cell_type": "markdown",
   "metadata": {},
   "source": [
    "# Introduction\n",
    "\n",
    "In this project, you will build a neural network of your own design to evaluate the CIFAR-10 dataset.\n",
    "\n",
    "To meet the requirements for this project, you will need to achieve an accuracy greater than 45%. \n",
    "If you want to beat Detectocorp's algorithm, you'll need to achieve an accuracy greater than 70%. \n",
    "(Beating Detectocorp's algorithm is not a requirement for passing this project, but you're encouraged to try!)\n",
    "\n",
    "Some of the benchmark results on CIFAR-10 include:\n",
    "\n",
    "78.9% Accuracy | [Deep Belief Networks; Krizhevsky, 2010](https://www.cs.toronto.edu/~kriz/conv-cifar10-aug2010.pdf)\n",
    "\n",
    "90.6% Accuracy | [Maxout Networks; Goodfellow et al., 2013](https://arxiv.org/pdf/1302.4389.pdf)\n",
    "\n",
    "96.0% Accuracy | [Wide Residual Networks; Zagoruyko et al., 2016](https://arxiv.org/pdf/1605.07146.pdf)\n",
    "\n",
    "99.0% Accuracy | [GPipe; Huang et al., 2018](https://arxiv.org/pdf/1811.06965.pdf)\n",
    "\n",
    "98.5% Accuracy | [Rethinking Recurrent Neural Networks and other Improvements for ImageClassification; Nguyen et al., 2020](https://arxiv.org/pdf/2007.15161.pdf)\n",
    "\n",
    "Research with this dataset is ongoing. Notably, many of these networks are quite large and quite expensive to train. \n",
    "\n",
    "## Imports"
   ]
  },
  {
   "cell_type": "code",
   "execution_count": null,
   "metadata": {},
   "outputs": [],
   "source": []
  },
  {
   "cell_type": "code",
   "execution_count": 71,
   "metadata": {},
   "outputs": [],
   "source": [
    "## This cell contains the essential imports you will need – DO NOT CHANGE THE CONTENTS! ##\n",
    "import torch\n",
    "import torch.nn as nn\n",
    "import torch.nn.functional as F\n",
    "import torch.optim as optim\n",
    "import torchvision\n",
    "from torchvision import datasets\n",
    "import torchvision.transforms as transforms\n",
    "from torch.utils.data.sampler import SubsetRandomSampler\n",
    "import matplotlib.pyplot as plt\n",
    "import numpy as np"
   ]
  },
  {
   "cell_type": "markdown",
   "metadata": {},
   "source": [
    "## Load the Dataset\n",
    "\n",
    "Specify your transforms as a list first.\n",
    "The transforms module is already loaded as `transforms`.\n",
    "\n",
    "CIFAR-10 is fortunately included in the torchvision module.\n",
    "Then, you can create your dataset using the `CIFAR10` object from `torchvision.datasets` ([the documentation is available here](https://pytorch.org/docs/stable/torchvision/datasets.html#cifar)).\n",
    "Make sure to specify `download=True`! \n",
    "\n",
    "Once your dataset is created, you'll also need to define a `DataLoader` from the `torch.utils.data` module for both the train and the test set."
   ]
  },
  {
   "cell_type": "code",
   "execution_count": 72,
   "metadata": {},
   "outputs": [
    {
     "name": "stdout",
     "output_type": "stream",
     "text": [
      "Files already downloaded and verified\n",
      "Files already downloaded and verified\n"
     ]
    }
   ],
   "source": [
    "# Define transforms\n",
    "## YOUR CODE HERE ##\n",
    "test_transforms = transforms.Compose([transforms.ToTensor(),\n",
    "                                 transforms.Normalize((0.5, 0.5, 0.5), (0.5, 0.5, 0.5))])\n",
    "                                   \n",
    "train_transforms = transforms.Compose([transforms.RandomRotation(30),\n",
    "                                       transforms.RandomHorizontalFlip(),\n",
    "                                       transforms.ToTensor(),\n",
    "                                       transforms.Normalize((0.5, 0.5, 0.5), (0.5, 0.5, 0.5))])\n",
    "# Create training set and define training dataloader\n",
    "## YOUR CODE HERE ##\n",
    "num_workers = 0\n",
    "batch_size = 20\n",
    "valid_size = 0.2\n",
    "\n",
    "trainset = datasets.CIFAR10('./data', download = True, train = True, transform = train_transforms)\n",
    "testset = datasets.CIFAR10('./data', download = True, train = False, transform = test_transforms)\n",
    "\n",
    "# validation set\n",
    "train_num = len(trainset)\n",
    "indices = list(range(train_num))\n",
    "np.random.shuffle(indices)\n",
    "split = int(np.floor(train_num * valid_size))\n",
    "train_idx, valid_idx = indices[split:], indices[:split]\n",
    "\n",
    "train_sampler = SubsetRandomSampler(train_idx)\n",
    "valid_sampler = SubsetRandomSampler(valid_idx)\n",
    "\n",
    "# Create test set and define test dataloader\n",
    "## YOUR CODE HERE ##\n",
    "trainloader = torch.utils.data.DataLoader(trainset, batch_size = batch_size, \n",
    "                                         sampler = train_sampler, num_workers = num_workers)\n",
    "validationloader = torch.utils.data.DataLoader(trainset, batch_size = batch_size, \n",
    "                                              sampler = valid_sampler, num_workers = num_workers)\n",
    "testloader = torch.utils.data.DataLoader(testset, batch_size = batch_size, num_workers=num_workers)\n",
    "\n",
    "# The 10 classes in the dataset\n",
    "classes = ('plane', 'car', 'bird', 'cat', 'deer', 'dog', 'frog', 'horse', 'ship', 'truck')"
   ]
  },
  {
   "cell_type": "markdown",
   "metadata": {},
   "source": [
    "## Explore the Dataset\n",
    "Using matplotlib, numpy, and torch, explore the dimensions of your data.\n",
    "\n",
    "You can view images using the `show5` function defined below – it takes a data loader as an argument.\n",
    "Remember that normalized images will look really weird to you! You may want to try changing your transforms to view images.\n",
    "Typically using no transforms other than `toTensor()` works well for viewing – but not as well for training your network.\n",
    "If `show5` doesn't work, go back and check your code for creating your data loaders and your training/test sets."
   ]
  },
  {
   "cell_type": "code",
   "execution_count": 73,
   "metadata": {},
   "outputs": [],
   "source": [
    "def show5(img_loader):\n",
    "    dataiter = iter(img_loader)\n",
    "    \n",
    "    batch = next(dataiter)\n",
    "    labels = batch[1][0:5]\n",
    "    images = batch[0][0:5]\n",
    "    for i in range(5):\n",
    "        print(classes[labels[i]])\n",
    "        image = images[i].numpy()\n",
    "        image = image / 2 + 0.5   # unnormalize \n",
    "        plt.imshow(np.rot90(image.T, k=3))\n",
    "        plt.show()"
   ]
  },
  {
   "cell_type": "code",
   "execution_count": 74,
   "metadata": {},
   "outputs": [
    {
     "name": "stdout",
     "output_type": "stream",
     "text": [
      "plane\n"
     ]
    },
    {
     "data": {
      "image/png": "[encoded data removed]",
      "text/plain": [
       "<matplotlib.figure.Figure at 0x7f4bc49d0da0>"
      ]
     },
     "metadata": {
      "needs_background": "light"
     },
     "output_type": "display_data"
    },
    {
     "name": "stdout",
     "output_type": "stream",
     "text": [
      "dog\n"
     ]
    },
    {
     "data": {
      "image/png": "[encoded data removed]",
      "text/plain": [
       "<matplotlib.figure.Figure at 0x7f4bb8908cf8>"
      ]
     },
     "metadata": {
      "needs_background": "light"
     },
     "output_type": "display_data"
    },
    {
     "name": "stdout",
     "output_type": "stream",
     "text": [
      "cat\n"
     ]
    },
    {
     "data": {
      "image/png": "[encoded data removed]",
      "text/plain": [
       "<matplotlib.figure.Figure at 0x7f4bc44f32b0>"
      ]
     },
     "metadata": {
      "needs_background": "light"
     },
     "output_type": "display_data"
    },
    {
     "name": "stdout",
     "output_type": "stream",
     "text": [
      "plane\n"
     ]
    },
    {
     "data": {
      "image/png": "[encoded data removed]",
      "text/plain": [
       "<matplotlib.figure.Figure at 0x7f4bba942c18>"
      ]
     },
     "metadata": {
      "needs_background": "light"
     },
     "output_type": "display_data"
    },
    {
     "name": "stdout",
     "output_type": "stream",
     "text": [
      "deer\n"
     ]
    },
    {
     "data": {
      "image/png": "[encoded data removed]",
      "text/plain": [
       "<matplotlib.figure.Figure at 0x7f4bba8bd8d0>"
      ]
     },
     "metadata": {
      "needs_background": "light"
     },
     "output_type": "display_data"
    }
   ],
   "source": [
    "# Explore data\n",
    "## YOUR CODE HERE ##\n",
    "show5(trainloader)"
   ]
  },
  {
   "cell_type": "code",
   "execution_count": 75,
   "metadata": {},
   "outputs": [
    {
     "data": {
      "text/plain": [
       "torch.Size([20, 3, 32, 32])"
      ]
     },
     "execution_count": 75,
     "metadata": {},
     "output_type": "execute_result"
    }
   ],
   "source": [
    "images, labels = next(iter(trainloader))\n",
    "images.shape"
   ]
  },
  {
   "cell_type": "code",
   "execution_count": 76,
   "metadata": {},
   "outputs": [
    {
     "data": {
      "text/plain": [
       "torch.Size([20, 3, 32, 32])"
      ]
     },
     "execution_count": 76,
     "metadata": {},
     "output_type": "execute_result"
    }
   ],
   "source": [
    "images, labels = next(iter(testloader))\n",
    "images.shape"
   ]
  },
  {
   "cell_type": "code",
   "execution_count": 77,
   "metadata": {},
   "outputs": [
    {
     "data": {
      "text/plain": [
       "torch.Size([20, 3, 32, 32])"
      ]
     },
     "execution_count": 77,
     "metadata": {},
     "output_type": "execute_result"
    }
   ],
   "source": [
    "images, labels = next(iter(validationloader))\n",
    "images.size()"
   ]
  },
  {
   "cell_type": "markdown",
   "metadata": {},
   "source": [
    "## Build your Neural Network\n",
    "Using the layers in `torch.nn` (which has been imported as `nn`) and the `torch.nn.functional` module (imported as `F`), construct a neural network based on the parameters of the dataset. \n",
    "Feel free to construct a model of any architecture – feedforward, convolutional, or even something more advanced!"
   ]
  },
  {
   "cell_type": "code",
   "execution_count": 78,
   "metadata": {},
   "outputs": [
    {
     "data": {
      "text/plain": [
       "classifier(\n",
       "  (conv1): Conv2d(3, 16, kernel_size=(3, 3), stride=(1, 1), padding=(1, 1))\n",
       "  (conv2): Conv2d(16, 32, kernel_size=(3, 3), stride=(1, 1), padding=(1, 1))\n",
       "  (conv3): Conv2d(32, 64, kernel_size=(3, 3), stride=(1, 1), padding=(1, 1))\n",
       "  (conv4): Conv2d(64, 64, kernel_size=(3, 3), stride=(1, 1), padding=(1, 1))\n",
       "  (pool): MaxPool2d(kernel_size=2, stride=2, padding=0, dilation=1, ceil_mode=False)\n",
       "  (fc1): Linear(in_features=1024, out_features=512, bias=True)\n",
       "  (fc2): Linear(in_features=512, out_features=10, bias=True)\n",
       "  (dropout): Dropout(p=0.2)\n",
       ")"
      ]
     },
     "execution_count": 78,
     "metadata": {},
     "output_type": "execute_result"
    }
   ],
   "source": [
    "## YOUR CODE HERE ##\n",
    "\n",
    "class classifier(nn.Module) :\n",
    "    def __init__(self) :\n",
    "        super().__init__()\n",
    "        # convolutional layers\n",
    "        self.conv1 = nn.Conv2d(3, 16, 3, padding = 1)\n",
    "        self.conv2 = nn.Conv2d(16, 32, 3, padding = 1)\n",
    "        self.conv3 = nn.Conv2d(32, 64, 3, padding = 1)\n",
    "        self.conv4 = nn.Conv2d(64, 64, 3, padding = 1)\n",
    "        \n",
    "        # max polling layer\n",
    "        self.pool = nn.MaxPool2d(2, 2)\n",
    "        \n",
    "        # fully connected layers\n",
    "        self.fc1 = nn.Linear(4 * 4 * 64, 512)\n",
    "        self.fc2 = nn.Linear(512, 10)\n",
    "        \n",
    "        self.dropout = nn.Dropout(p=0.2)\n",
    "        \n",
    "    def forward(self, x) :\n",
    "        x = self.pool(F.relu(self.conv1(x)))\n",
    "        x = self.pool(F.relu(self.conv2(x)))\n",
    "        x = F.relu(self.conv3(x))\n",
    "        x = self.pool(F.relu(self.conv4(x)))\n",
    "        \n",
    "        # flatten the image\n",
    "        x = x.view(x.shape[0], -1)\n",
    "        x = self.dropout(x)\n",
    "        x = F.relu(self.fc1(x))\n",
    "        x = self.dropout(x)\n",
    "        x = self.fc2(x)\n",
    "        \n",
    "        return x\n",
    "        \n",
    "model = classifier()\n",
    "model"
   ]
  },
  {
   "cell_type": "markdown",
   "metadata": {},
   "source": [
    "Specify a loss function and an optimizer, and instantiate the model.\n",
    "\n",
    "If you use a less common loss function, please note why you chose that loss function in a comment."
   ]
  },
  {
   "cell_type": "code",
   "execution_count": 79,
   "metadata": {},
   "outputs": [],
   "source": [
    "## YOUR CODE HERE ##\n",
    "\n",
    "optimizer = optim.SGD(model.parameters(), lr = 0.05)\n",
    "criterion = nn.CrossEntropyLoss()"
   ]
  },
  {
   "cell_type": "markdown",
   "metadata": {},
   "source": [
    "## Running your Neural Network\n",
    "Use whatever method you like to train your neural network, and ensure you record the average loss at each epoch. \n",
    "Don't forget to use `torch.device()` and the `.to()` method for both your model and your data if you are using GPU!\n",
    "\n",
    "If you want to print your loss during each epoch, you can use the `enumerate` function and print the loss after a set number of batches. 250 batches works well for most people!"
   ]
  },
  {
   "cell_type": "code",
   "execution_count": 80,
   "metadata": {
    "scrolled": true
   },
   "outputs": [
    {
     "name": "stdout",
     "output_type": "stream",
     "text": [
      "Epoch 1 /tTraining Loss : 1.510617 /tValidation Loss : 0.309100\n",
      "Validation Loss Decreased (inf --> 0.309100).   saving model...\n",
      "Epoch 2 /tTraining Loss : 1.196245 /tValidation Loss : 0.268056\n",
      "Validation Loss Decreased (0.309100 --> 0.268056).   saving model...\n",
      "Epoch 3 /tTraining Loss : 1.073203 /tValidation Loss : 0.245275\n",
      "Validation Loss Decreased (0.268056 --> 0.245275).   saving model...\n",
      "Epoch 4 /tTraining Loss : 1.000152 /tValidation Loss : 0.235801\n",
      "Validation Loss Decreased (0.245275 --> 0.235801).   saving model...\n",
      "Epoch 5 /tTraining Loss : 0.940157 /tValidation Loss : 0.215923\n",
      "Validation Loss Decreased (0.235801 --> 0.215923).   saving model...\n",
      "Epoch 6 /tTraining Loss : 0.898275 /tValidation Loss : 0.207932\n",
      "Validation Loss Decreased (0.215923 --> 0.207932).   saving model...\n",
      "Epoch 7 /tTraining Loss : 0.861290 /tValidation Loss : 0.197345\n",
      "Validation Loss Decreased (0.207932 --> 0.197345).   saving model...\n",
      "Epoch 8 /tTraining Loss : 0.826885 /tValidation Loss : 0.199122\n",
      "Epoch 9 /tTraining Loss : 0.805461 /tValidation Loss : 0.198232\n",
      "Epoch 10 /tTraining Loss : 0.787918 /tValidation Loss : 0.186899\n",
      "Validation Loss Decreased (0.197345 --> 0.186899).   saving model...\n",
      "Epoch 11 /tTraining Loss : 0.767266 /tValidation Loss : 0.183693\n",
      "Validation Loss Decreased (0.186899 --> 0.183693).   saving model...\n",
      "Epoch 12 /tTraining Loss : 0.754285 /tValidation Loss : 0.190820\n",
      "Epoch 13 /tTraining Loss : 0.744227 /tValidation Loss : 0.182174\n",
      "Validation Loss Decreased (0.183693 --> 0.182174).   saving model...\n",
      "Epoch 14 /tTraining Loss : 0.733219 /tValidation Loss : 0.181383\n",
      "Validation Loss Decreased (0.182174 --> 0.181383).   saving model...\n",
      "Epoch 15 /tTraining Loss : 0.727092 /tValidation Loss : 0.174847\n",
      "Validation Loss Decreased (0.181383 --> 0.174847).   saving model...\n",
      "Epoch 16 /tTraining Loss : 0.712714 /tValidation Loss : 0.174111\n",
      "Validation Loss Decreased (0.174847 --> 0.174111).   saving model...\n",
      "Epoch 17 /tTraining Loss : 0.707543 /tValidation Loss : 0.174911\n",
      "Epoch 18 /tTraining Loss : 0.701411 /tValidation Loss : 0.185706\n",
      "Epoch 19 /tTraining Loss : 0.694776 /tValidation Loss : 0.169526\n",
      "Validation Loss Decreased (0.174111 --> 0.169526).   saving model...\n",
      "Epoch 20 /tTraining Loss : 0.693306 /tValidation Loss : 0.169604\n",
      "Epoch 21 /tTraining Loss : 0.687494 /tValidation Loss : 0.173801\n",
      "Epoch 26 /tTraining Loss : 0.670454 /tValidation Loss : 0.170097\n",
      "Epoch 27 /tTraining Loss : 0.668698 /tValidation Loss : 0.161985\n",
      "Validation Loss Decreased (0.166466 --> 0.161985).   saving model...\n",
      "Epoch 28 /tTraining Loss : 0.667786 /tValidation Loss : 0.167154\n",
      "Epoch 29 /tTraining Loss : 0.662336 /tValidation Loss : 0.167521\n",
      "Epoch 30 /tTraining Loss : 0.658574 /tValidation Loss : 0.171471\n"
     ]
    }
   ],
   "source": [
    "## YOUR CODE HERE ##\n",
    "device = torch.device('cuda' if torch.cuda.is_available() else 'cpu')\n",
    "\n",
    "model.to(device)\n",
    "epochs = 30\n",
    "\n",
    "training_losses = []\n",
    "validation_losses = []\n",
    "\n",
    "valid_loss_min = np.inf\n",
    "\n",
    "for e in range(epochs) :\n",
    "    running_loss = 0\n",
    "    validation_loss = 0\n",
    "    \n",
    "    model.train()\n",
    "    for images, labels in trainloader :\n",
    "        \n",
    "        images, labels = images.to(device), labels.to(device)\n",
    "        \n",
    "        optimizer.zero_grad()\n",
    "        logits = model(images)\n",
    "        loss = criterion(logits, labels)\n",
    "        loss.backward()\n",
    "        optimizer.step()\n",
    "        \n",
    "        running_loss += loss.item()*images.size(0) \n",
    "    model.eval()\n",
    "    for images, labels in validationloader :\n",
    "        images, labels = images.to(device), labels.to(device)\n",
    "        \n",
    "        logits = model(images)\n",
    "        loss = criterion(logits, labels)\n",
    "        \n",
    "        validation_loss += loss.item()*images.size(0)\n",
    "    \n",
    "    train_loss = running_loss/len(trainloader.dataset)\n",
    "    valid_loss = validation_loss/len(validationloader.dataset)\n",
    "    \n",
    "    training_losses.append(train_loss)\n",
    "    validation_losses.append(valid_loss)\n",
    "    \n",
    "    print('Epoch {} /tTraining Loss : {:0.6f} /tValidation Loss : {:0.6f}'.\n",
    "          format(e+1, train_loss, valid_loss))    \n",
    "        \n",
    "    \n",
    "    if valid_loss < valid_loss_min :\n",
    "        print('Validation Loss Decreased ({:0.6f} --> {:0.6f}).   saving model...'.format(\n",
    "              valid_loss_min, valid_loss, torch.save(model.state_dict(), 'model_cifar.pth')))\n",
    "        \n",
    "        valid_loss_min = valid_loss\n"
   ]
  },
  {
   "cell_type": "code",
   "execution_count": null,
   "metadata": {},
   "outputs": [],
   "source": []
  },
  {
   "cell_type": "markdown",
   "metadata": {},
   "source": [
    "Plot the training loss (and validation loss/accuracy, if recorded)."
   ]
  },
  {
   "cell_type": "code",
   "execution_count": 81,
   "metadata": {},
   "outputs": [
    {
     "data": {
      "text/plain": [
       "<matplotlib.legend.Legend at 0x7f4bb89b4320>"
      ]
     },
     "execution_count": 81,
     "metadata": {},
     "output_type": "execute_result"
    },
    {
     "data": {
      "image/png": "[encoded data removed]",
      "text/plain": [
       "<matplotlib.figure.Figure at 0x7f4bc40b1e80>"
      ]
     },
     "metadata": {
      "needs_background": "light"
     },
     "output_type": "display_data"
    }
   ],
   "source": [
    "## YOUR CODE HERE ##\n",
    "plt.plot(np.arange(epochs), training_losses, label = 'training losses')\n",
    "plt.plot(np.arange(epochs), validation_losses, label = 'validation losses')\n",
    "plt.title('Training And VAlidation Losses VS epochs')\n",
    "plt.xlabel('Epochs')\n",
    "plt.ylabel('Losses')\n",
    "plt.legend()"
   ]
  },
  {
   "cell_type": "code",
   "execution_count": null,
   "metadata": {},
   "outputs": [],
   "source": []
  },
  {
   "cell_type": "markdown",
   "metadata": {},
   "source": [
    "## Testing your model\n",
    "Using the previously created `DataLoader` for the test set, compute the percentage of correct predictions using the highest probability prediction. \n",
    "\n",
    "If your accuracy is over 70%, great work! \n",
    "This is a hard task to exceed 70% on.\n",
    "\n",
    "If your accuracy is under 45%, you'll need to make improvements.\n",
    "Go back and check your model architecture, loss function, and optimizer to make sure they're appropriate for an image classification task."
   ]
  },
  {
   "cell_type": "code",
   "execution_count": 82,
   "metadata": {},
   "outputs": [],
   "source": [
    "model.load_state_dict(torch.load('model_cifar.pth'))"
   ]
  },
  {
   "cell_type": "code",
   "execution_count": 83,
   "metadata": {},
   "outputs": [
    {
     "name": "stdout",
     "output_type": "stream",
     "text": [
      "Accuracy of Testing is : 75.07002258300781%\n"
     ]
    }
   ],
   "source": [
    "## YOUR CODE HERE ##\n",
    "model.eval()\n",
    "accuracy = 0\n",
    "with torch.no_grad() :\n",
    "    for images, labels in testloader :\n",
    "        images, labels = images.to(device), labels.to(device)\n",
    "\n",
    "        logits = model(images)\n",
    "        #loss = criterion(logits, labels)\n",
    "        ps = torch.exp(logits)\n",
    "        top_ps, top_classes = ps.topk(1, dim = 1)\n",
    "        equals = labels.view(-1,1) == top_classes.view(-1,1)\n",
    "        acc = torch.mean(equals.type(torch.FloatTensor))\n",
    "        accuracy += acc\n",
    "    \n",
    "print(f'Accuracy of Testing is : {accuracy * 100 / len(testloader)}%')\n",
    "    "
   ]
  },
  {
   "cell_type": "markdown",
   "metadata": {},
   "source": [
    "## Saving your model\n",
    "Using `torch.save`, save your model for future loading."
   ]
  },
  {
   "cell_type": "code",
   "execution_count": 84,
   "metadata": {},
   "outputs": [],
   "source": [
    "## YOUR CODE HERE ##\n",
    "\n",
    "torch.save(model.state_dict(), 'cifar10_model.pth')"
   ]
  },
  {
   "cell_type": "markdown",
   "metadata": {},
   "source": [
    "## Make a Recommendation\n",
    "\n",
    "Based on your evaluation, what is your recommendation on whether to build or buy? Explain your reasoning below.\n",
    "\n",
    "Some things to consider as you formulate your recommendation:\n",
    "* How does your model compare to Detectocorp's model?\n",
    "* How does it compare to the far more advanced solutions in the literature? \n",
    "* What did you do to get the accuracy you achieved? \n",
    "* Is it necessary to improve this accuracy? If so, what sort of work would be involved in improving it?"
   ]
  },
  {
   "cell_type": "markdown",
   "metadata": {},
   "source": [
    "\n",
    "\n",
    "**Double click this cell to modify it**\n",
    "\n",
    "- the model has test accuracy of 55 % which is little lower than Detectcorp's model so my model can be much more enhanced and the decision is there is no need for purhasing any algorithm\n",
    "- to get this accuracy i used three convolutional and max pooling layers and a fully connected layer\n",
    "- to improve the accuracy the layers could be increased a little bit and do some augmentation"
   ]
  },
  {
   "cell_type": "markdown",
   "metadata": {},
   "source": [
    "## Submit Your Project\n",
    "\n",
    "When you are finished editing the notebook and are ready to turn it in, simply click the **SUBMIT PROJECT** button in the lower right.\n",
    "\n",
    "Once you submit your project, we'll review your work and give you feedback if there's anything that you need to work on. If you'd like to see the exact points that your reviewer will check for when looking at your work, you can have a look over the project [rubric](https://review.udacity.com/#!/rubrics/3077/view)."
   ]
  }
 ],
 "metadata": {
  "kernelspec": {
   "display_name": "Python 3",
   "language": "python",
   "name": "python3"
  },
  "language_info": {
   "codemirror_mode": {
    "name": "ipython",
    "version": 3
   },
   "file_extension": ".py",
   "mimetype": "text/x-python",
   "name": "python",
   "nbconvert_exporter": "python",
   "pygments_lexer": "ipython3",
   "version": "3.6.3"
  }
 },
 "nbformat": 4,
 "nbformat_minor": 4
}
